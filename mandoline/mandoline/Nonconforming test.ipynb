{
 "cells": [
  {
   "cell_type": "code",
   "execution_count": 19,
   "id": "eae79159",
   "metadata": {},
   "outputs": [],
   "source": [
    "from mesh import non_conforming_refinement, Mesh2D\n",
    "import plot as p2d\n",
    "import numpy as np\n",
    "import matplotlib.pyplot as plt\n",
    "from slicer import refine_layer"
   ]
  },
  {
   "cell_type": "code",
   "execution_count": 20,
   "id": "4b6d46d3",
   "metadata": {},
   "outputs": [
    {
     "data": {
      "image/png": "[encoded data removed]",
      "text/plain": [
       "<Figure size 288x288 with 1 Axes>"
      ]
     },
     "metadata": {
      "needs_background": "light"
     },
     "output_type": "display_data"
    }
   ],
   "source": [
    "# minx, miny, maxx, maxy = rect\n",
    "ori_T = np.array([[0, 1, 2, 3]])\n",
    "# ori_P = np.array([[minx, miny, 0],\n",
    "#          [maxx, miny, 0],\n",
    "#          [maxx, maxy, 0],\n",
    "#          [minx, maxy, 0]])\n",
    "\n",
    "ori_P = np.array([[-100, -100, 0],\n",
    "                  [100, -100, 0],\n",
    "                  [100, 100, 0],\n",
    "                  [-100, 100, 0]])\n",
    "\n",
    "layer_stress = {'coords':np.array([[-50, 50, 0], [50, 50, 0], [-50,  -50, 0],  [50, -50, 0]]), 'stress':[0.9, 0.1, 0.5, 0.73]}\n",
    "\n",
    "\n",
    "# ori_P = np.array([[0, 0, 0],\n",
    "#                   [5, 0, 0],\n",
    "#                   [5, 5, 0],\n",
    "#                   [0, 5, 0]])\n",
    "\n",
    "mesh_unrefined = Mesh2D(elm=ori_T, vert=ori_P)\n",
    "fig, ax = plt.subplots(1,1,figsize=(4,4))\n",
    "p2d.draw_mesh(mesh_unrefined, ax=ax)\n",
    "plt.show()\n"
   ]
  },
  {
   "cell_type": "code",
   "execution_count": 21,
   "id": "c2e1a785",
   "metadata": {},
   "outputs": [
    {
     "ename": "AttributeError",
     "evalue": "module 'slicer' has no attribute 'refine_layer'",
     "output_type": "error",
     "traceback": [
      "\u001b[0;31m---------------------------------------------------------------------------\u001b[0m",
      "\u001b[0;31mAttributeError\u001b[0m                            Traceback (most recent call last)",
      "Input \u001b[0;32mIn [21]\u001b[0m, in \u001b[0;36m<cell line: 1>\u001b[0;34m()\u001b[0m\n\u001b[0;32m----> 1\u001b[0m mesh_refined \u001b[38;5;241m=\u001b[39m \u001b[43mslicer\u001b[49m\u001b[38;5;241;43m.\u001b[39;49m\u001b[43mrefine_layer\u001b[49m(\u001b[38;5;241m0.2\u001b[39m, \u001b[38;5;241m0.8\u001b[39m, mesh, layer_stress, \u001b[38;5;241m1\u001b[39m)\n\u001b[1;32m      2\u001b[0m fig, ax \u001b[38;5;241m=\u001b[39m plt\u001b[38;5;241m.\u001b[39msubplots(\u001b[38;5;241m1\u001b[39m,\u001b[38;5;241m1\u001b[39m,figsize\u001b[38;5;241m=\u001b[39m(\u001b[38;5;241m4\u001b[39m,\u001b[38;5;241m4\u001b[39m))\n\u001b[1;32m      3\u001b[0m p2d\u001b[38;5;241m.\u001b[39mdraw_mesh(mesh_refined, ax\u001b[38;5;241m=\u001b[39max)\n",
      "\u001b[0;31mAttributeError\u001b[0m: module 'slicer' has no attribute 'refine_layer'"
     ]
    }
   ],
   "source": [
    "mesh_refined = refine_layer(0.2, 0.8, mesh, layer_stress, 1)\n",
    "fig, ax = plt.subplots(1,1,figsize=(4,4))\n",
    "p2d.draw_mesh(mesh_refined, ax=ax)\n",
    "plt.show()"
   ]
  },
  {
   "cell_type": "code",
   "execution_count": 11,
   "id": "eb0ee9b6",
   "metadata": {},
   "outputs": [
    {
     "data": {
      "image/png": "[encoded data removed]",
      "text/plain": [
       "<Figure size 288x288 with 1 Axes>"
      ]
     },
     "metadata": {
      "needs_background": "light"
     },
     "output_type": "display_data"
    }
   ],
   "source": [
    "mesh_refined = non_conforming_refinement(mesh_refined, [0, 3])\n",
    "fig, ax = plt.subplots(1,1,figsize=(4,4))\n",
    "p2d.draw_mesh(mesh_refined, ax=ax)\n",
    "plt.show()"
   ]
  },
  {
   "cell_type": "code",
   "execution_count": null,
   "id": "2ab7fe64",
   "metadata": {},
   "outputs": [],
   "source": []
  }
 ],
 "metadata": {
  "kernelspec": {
   "display_name": "Python 3 (ipykernel)",
   "language": "python",
   "name": "python3"
  },
  "language_info": {
   "codemirror_mode": {
    "name": "ipython",
    "version": 3
   },
   "file_extension": ".py",
   "mimetype": "text/x-python",
   "name": "python",
   "nbconvert_exporter": "python",
   "pygments_lexer": "ipython3",
   "version": "3.9.12"
  }
 },
 "nbformat": 4,
 "nbformat_minor": 5
}
